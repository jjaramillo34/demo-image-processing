{
 "cells": [
  {
   "cell_type": "code",
   "execution_count": 5,
   "metadata": {},
   "outputs": [
    {
     "name": "stdout",
     "output_type": "stream",
     "text": [
      "[{'title': \"PythonOpenCV Basic Projects: TUT11: Let's draw the OpenCV logo\", 'image': 'https://2.bp.blogspot.com/-gyf9Loz9m1s/V7sWZF30MvI/AAAAAAAAAKM/Iqc9dyJo3PEn_WNycC9ggSkoRdwF2VTpwCLcB/s1600/Screenshot%2B%252894%2529.png', 'thumbnail': 'https://tse2.mm.bing.net/th?id=OIP.95ybkkQCvuz0QfUj497ygwHaHy&pid=Api', 'url': 'https://pycvprojects.blogspot.com/2016/08/tut11-lets-draw-opencv-logo.html', 'height': 527, 'width': 501, 'source': 'Bing'}, {'title': 'OpenCV Tutorials', 'image': 'https://chercher.tech/images/opencv/opencv-python-logo.png', 'thumbnail': 'https://tse2.mm.bing.net/th?id=OIP.ZBgMEde4e03XLJEQvZ0xcwHaDB&pid=Api', 'url': 'https://chercher.tech/opencv/opencv-tutorials', 'height': 630, 'width': 1540, 'source': 'Bing'}, {'title': \"Let's Draw OpenCV Logo Using OpenCV - DEV Community\", 'image': 'https://res.cloudinary.com/practicaldev/image/fetch/s--ueC-s7iW--/c_imagga_scale,f_auto,fl_progressive,h_500,q_auto,w_1000/https://dev-to-uploads.s3.amazonaws.com/uploads/articles/k2l1qtiqdslkdn7zbu7g.png', 'thumbnail': 'https://tse2.mm.bing.net/th?id=OIP.4aJ2S8I2lrgpGEbf_tmnAwHaDt&pid=Api', 'url': 'https://dev.to/siddharth2016/let-s-draw-opencv-logo-using-opencv-2afh', 'height': 500, 'width': 1000, 'source': 'Bing'}, {'title': \"Let's Draw OpenCV Logo Using OpenCV - DEV Community\", 'image': 'https://res.cloudinary.com/practicaldev/image/fetch/s--MwV2vj67--/c_limit%2Cf_auto%2Cfl_progressive%2Cq_auto%2Cw_880/https://cdn.hashnode.com/res/hashnode/image/upload/v1618654038257/tM_8qo9Gt.jpeg', 'thumbnail': 'https://tse3.mm.bing.net/th?id=OIP.5Z6Ln0OprJ1doMHFbE9KcAAAAA&pid=Api', 'url': 'https://dev.to/siddharth2016/let-s-draw-opencv-logo-using-opencv-2afh', 'height': 436, 'width': 449, 'source': 'Bing'}, {'title': 'Contours : Getting Started — OpenCV 3.0.0-dev documentation', 'image': 'http://docs.opencv.org/3.0-beta/_static/opencv-logo2.png', 'thumbnail': 'https://tse4.mm.bing.net/th?id=OIP.T01PIOQezRiSpFnlvrHwewHaJH&pid=Api', 'url': 'http://docs.opencv.org/3.0-beta/doc/py_tutorials/py_imgproc/py_contours/py_contours_begin/py_contours_begin.html', 'height': 739, 'width': 600, 'source': 'Bing'}, {'title': \"Let's Draw OpenCV Logo Using OpenCV - DEV Community\", 'image': 'https://res.cloudinary.com/practicaldev/image/fetch/s--g9gbaemf--/c_limit%2Cf_auto%2Cfl_progressive%2Cq_auto%2Cw_880/https://cdn.hashnode.com/res/hashnode/image/upload/v1618654129100/oAnxcrzE4.png', 'thumbnail': 'https://tse1.mm.bing.net/th?id=OIP.vAz9NtHMRjRMTD5zmBO9XAHaFN&pid=Api', 'url': 'https://dev.to/siddharth2016/let-s-draw-opencv-logo-using-opencv-2afh', 'height': 360, 'width': 512, 'source': 'Bing'}, {'title': \"PythonOpenCV Basic Projects: TUT11: Let's draw the OpenCV logo\", 'image': 'https://2.bp.blogspot.com/-gyf9Loz9m1s/V7sWZF30MvI/AAAAAAAAAKM/Iqc9dyJo3PEn_WNycC9ggSkoRdwF2VTpwCLcB/w1200-h630-p-k-no-nu/Screenshot%2B%252894%2529.png', 'thumbnail': 'https://tse2.mm.bing.net/th?id=OIP.svTYGNkimC55iO6PykUkVgFYC1&pid=Api', 'url': 'https://pycvprojects.blogspot.com/2016/08/tut11-lets-draw-opencv-logo.html', 'height': 264, 'width': 501, 'source': 'Bing'}, {'title': 'Directory listing for opencv-0.0.2.1 source tarball | Hackage', 'image': 'https://hackage.haskell.org/package/opencv-0.0.2.1/src/data/haskell-opencv-logo.png', 'thumbnail': 'https://tse4.mm.bing.net/th?id=OIP.E1SI04AB002LBNRbC5X_YgEsB7&pid=Api', 'url': 'https://hackage.haskell.org/package/opencv-0.0.2.1/src/', 'height': 555, 'width': 1350, 'source': 'Bing'}, {'title': 'Opencv Logos', 'image': 'https://www.logolynx.com/images/logolynx/75/753847ef90118383f2048de0a4b1d5e4.jpeg', 'thumbnail': 'https://tse2.mm.bing.net/th?id=OIP.gy0JjIDRHRipwUrF8U5SwQAAAA&pid=Api', 'url': 'https://www.logolynx.com/topic/opencv', 'height': 264, 'width': 474, 'source': 'Bing'}, {'title': 'ハフ変換による円検出 — OpenCV-Python Tutorials', 'image': 'http://whitewell.sakura.ne.jp/OpenCV/py_tutorials/py_imgproc/py_houghcircles/opencv_logo.jpg', 'thumbnail': 'https://tse3.mm.bing.net/th?id=OIP.09fRlYaf_-329nvX5nRShgHaHa&pid=Api', 'url': 'http://whitewell.sakura.ne.jp/OpenCV/py_tutorials/py_imgproc/py_houghcircles/py_houghcircles.html', 'height': 100, 'width': 100, 'source': 'Bing'}, {'title': 'OpenCV: samples/cpp/tutorial_code/ImgProc/basic_drawing/Drawing_2.cpp', 'image': 'http://www.devdoc.net/linux/OpenCV-doc-4.3.0/opencv-logo-small.png', 'thumbnail': 'https://tse1.mm.bing.net/th?id=OIP.15Y7fsAAQyRLdHbqZgtJBwAAAA&pid=Api', 'url': 'http://devdoc.net/linux/OpenCV-doc-4.3.0/de/d06/samples_2cpp_2tutorial_code_2ImgProc_2basic_drawing_2Drawing_2_8cpp-example.html', 'height': 50, 'width': 54, 'source': 'Bing'}, {'title': 'Opencv Logo Png, Transparent Png - vhv', 'image': 'https://tl.vhv.rs/dpng/s/443-4431002_opencv-python-logo-python-opencv-hd-png-download.png', 'thumbnail': 'https://tse4.mm.bing.net/th?id=OIP.m8q5jlZv-PhmPzxyAJ3zNwAAAA&pid=Api', 'url': 'https://www.vhv.rs/viewpic/TRRTTi_opencv-logo-png-transparent-png/', 'height': 280, 'width': 280, 'source': 'Bing'}]\n"
     ]
    }
   ],
   "source": [
    "from duckduckgo_search import ddg, ddg_images\n",
    "keywords = 'drawing opencv logo'\n",
    "r = ddg_images(keywords, region='wt-wt', safesearch='Off', size=None,\n",
    "                       type_image=None, layout=None, license_image=None, max_results=12, output='json')\n",
    "                    \n",
    "print(r)"
   ]
  },
  {
   "cell_type": "code",
   "execution_count": 6,
   "metadata": {},
   "outputs": [],
   "source": [
    "a = ['/Users/javierjaramillo/Desktop/demo-image-processing/ddg_images_drawing opencv logo_20220824_220055.json', '/Users/javierjaramillo/Desktop/demo-image-processing/ddg_images_drawing opencv logo_20220824_220254.json', '/Users/javierjaramillo/Desktop/demo-image-processing/ddg_images_drawing opencv logo_20220824_220018.json', '/Users/javierjaramillo/Desktop/demo-image-processing/ddg_images_basic drawing opencv_20220824_220334.json', '/Users/javierjaramillo/Desktop/demo-image-processing/ddg_images_basic drawing opencv_20220824_220230.json', '/Users/javierjaramillo/Desktop/demo-image-processing/ddg_images_basic drawing opencv_20220824_220112.json', '/Users/javierjaramillo/Desktop/demo-image-processing/ddg_images_basic drawing opencv_20220824_215946.json', '/Users/javierjaramillo/Desktop/demo-image-processing/.vscode/settings.json']"
   ]
  },
  {
   "cell_type": "code",
   "execution_count": 14,
   "metadata": {},
   "outputs": [],
   "source": [
    "res = [i for i in a if 'drawing opencv logo' in i]"
   ]
  },
  {
   "cell_type": "code",
   "execution_count": 15,
   "metadata": {},
   "outputs": [
    {
     "name": "stdout",
     "output_type": "stream",
     "text": [
      "['/Users/javierjaramillo/Desktop/demo-image-processing/ddg_images_drawing opencv logo_20220824_220055.json', '/Users/javierjaramillo/Desktop/demo-image-processing/ddg_images_drawing opencv logo_20220824_220254.json', '/Users/javierjaramillo/Desktop/demo-image-processing/ddg_images_drawing opencv logo_20220824_220018.json']\n"
     ]
    }
   ],
   "source": [
    "print(res)"
   ]
  },
  {
   "cell_type": "code",
   "execution_count": null,
   "metadata": {},
   "outputs": [],
   "source": []
  }
 ],
 "metadata": {
  "kernelspec": {
   "display_name": "Python 3.8.13 ('computer_vision')",
   "language": "python",
   "name": "python3"
  },
  "language_info": {
   "codemirror_mode": {
    "name": "ipython",
    "version": 3
   },
   "file_extension": ".py",
   "mimetype": "text/x-python",
   "name": "python",
   "nbconvert_exporter": "python",
   "pygments_lexer": "ipython3",
   "version": "3.8.13"
  },
  "orig_nbformat": 4,
  "vscode": {
   "interpreter": {
    "hash": "4fdc2f73bf5d480b4cf34a598d9b45a8492d840372cfa5913d0a708f31ebf008"
   }
  }
 },
 "nbformat": 4,
 "nbformat_minor": 2
}
